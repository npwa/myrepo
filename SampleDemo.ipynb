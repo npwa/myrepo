{
 "cells": [
  {
   "cell_type": "markdown",
   "id": "2ad7d0f6-380c-4442-bdd5-ff63210d3ba7",
   "metadata": {},
   "source": [
    "# Demo Jupyterlite Notebook title"
   ]
  },
  {
   "cell_type": "markdown",
   "id": "060e3093-a864-4843-b20d-bc68258f1587",
   "metadata": {},
   "source": [
    "This is a new Jupyterlite Notebook for a final assignment. Developed on a server.\n",
    "Nothing to get too excited about, but it's working"
   ]
  },
  {
   "cell_type": "markdown",
   "id": "aba8df88-1fdd-4518-8145-81ca79d76758",
   "metadata": {},
   "source": [
    "Here are a few Data Science languages:\n",
    "- R\n",
    "- Python\n",
    "- Julia\n"
   ]
  },
  {
   "cell_type": "markdown",
   "id": "bc664d98-ded2-4c5a-b842-258e8f76ff4d",
   "metadata": {},
   "source": [
    "And a few important libraries for Data Science:\n",
    "- Matplotlib\n",
    "- NumPy\n",
    "- Pandas\n",
    "- SciPy \n",
    "- TensorFlow\n"
   ]
  },
  {
   "cell_type": "markdown",
   "id": "93a4ad57-6460-4b6f-9d8a-abf378840880",
   "metadata": {},
   "source": [
    "Here is a table of Data Science tools:\n",
    "<table align=\"left\">\n",
    "  <tr><th>Excellent tools</th> <th>Good tools</th> <th>Antiquated tools</th></tr>  \n",
    "  <tr><td>R</td> <td>Excel</td> <td>Abacus</td></tr>\n",
    "  <tr><td>Python</td> <td>Emacs</td> <td>Pencil and paper</td></tr>\n",
    "  <tr><td>Hugging Face</td> <td>...</td> <td>Frameworks</td></tr>\n",
    "</table>"
   ]
  },
  {
   "cell_type": "markdown",
   "id": "71141c4f-13b1-4804-9849-ba9eae0210ab",
   "metadata": {},
   "source": [
    "We can have mathematical expressions in a  markdown cell: $E = mc^2$"
   ]
  },
  {
   "cell_type": "code",
   "execution_count": null,
   "id": "201c2c2a-6056-48ac-b40e-8c57633d685b",
   "metadata": {},
   "outputs": [],
   "source": [
    "# multiply and add numbers:\n",
    "a = 2\n",
    "b = 3\n",
    "k = -2\n",
    "y = k*a + b\n",
    "print(y)"
   ]
  },
  {
   "cell_type": "code",
   "execution_count": null,
   "id": "01e1df79-3588-43f3-bc09-84c54b64a195",
   "metadata": {},
   "outputs": [],
   "source": [
    "# convert min to hrs:\n",
    "minutes = 60\n",
    "hours =  minutes/60\n",
    "print(hours)"
   ]
  },
  {
   "cell_type": "markdown",
   "id": "6662e197-9122-4dca-be22-d9e938521cf7",
   "metadata": {},
   "source": [
    "The objective is to create a new Jupyter notbook to:\n",
    " - practice formatting\n",
    " - create math expressions\n",
    " - calculate numbers"
   ]
  },
  {
   "cell_type": "markdown",
   "id": "c54b488a-828a-4274-a20a-7fb0d5299225",
   "metadata": {},
   "source": [
    "Author: Nikolaus Almassy"
   ]
  }
 ],
 "metadata": {
  "kernelspec": {
   "display_name": "Python 3 (ipykernel)",
   "language": "python",
   "name": "python3"
  },
  "language_info": {
   "codemirror_mode": {
    "name": "ipython",
    "version": 3
   },
   "file_extension": ".py",
   "mimetype": "text/x-python",
   "name": "python",
   "nbconvert_exporter": "python",
   "pygments_lexer": "ipython3",
   "version": "3.8.10"
  }
 },
 "nbformat": 4,
 "nbformat_minor": 5
}
